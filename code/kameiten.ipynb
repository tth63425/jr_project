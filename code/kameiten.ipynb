{
 "cells": [
  {
   "cell_type": "code",
   "execution_count": 125,
   "metadata": {},
   "outputs": [],
   "source": [
    "import pandas as pd\n",
    "import numpy as np"
   ]
  },
  {
   "cell_type": "code",
   "execution_count": 126,
   "metadata": {},
   "outputs": [],
   "source": [
    "df = pd.read_excel('../data/raw/kameiten-data.xlsx')"
   ]
  },
  {
   "cell_type": "code",
   "execution_count": 128,
   "metadata": {},
   "outputs": [],
   "source": [
    "month_list = list(df.iloc[1,6:32])"
   ]
  },
  {
   "cell_type": "code",
   "execution_count": 129,
   "metadata": {},
   "outputs": [],
   "source": [
    "list_store_type = []\n",
    "list_industry_type = []\n",
    "list_payment_type = []\n",
    "list_pref = []\n",
    "list_month = []\n",
    "list_store_number = []\n",
    "\n",
    "\n",
    "for i in range(2,42913):\n",
    "    if type(df.iloc[i, 2]) == float:\n",
    "        if type(df.iloc[i,3]) == float:\n",
    "            store_type = \"合計\"\n",
    "        else:\n",
    "            store_type = df.iloc[i,3]\n",
    "\n",
    "        if type(df.iloc[i,4]) == float:\n",
    "            industry_type = \"合計\"\n",
    "        else:\n",
    "            industry_type = df.iloc[i,4]\n",
    "            \n",
    "        if type(df.iloc[i,5]) == float:\n",
    "            payment_type = \"合計\"\n",
    "        else:\n",
    "            payment_type = df.iloc[i,5]\n",
    "            \n",
    "        pref = df.iloc[i,1]\n",
    "        \n",
    "        for j in range(6,32):\n",
    "            month = month_list[j - 6]\n",
    "            store_number = df.iloc[i,j]\n",
    "            \n",
    "            list_store_type.append(store_type)\n",
    "            list_industry_type.append(industry_type)\n",
    "            list_payment_type.append(payment_type)\n",
    "            list_pref.append(pref)\n",
    "            list_month.append(month)\n",
    "            list_store_number.append(store_number)"
   ]
  },
  {
   "cell_type": "code",
   "execution_count": null,
   "metadata": {},
   "outputs": [],
   "source": []
  },
  {
   "cell_type": "code",
   "execution_count": 130,
   "metadata": {},
   "outputs": [],
   "source": [
    "data = {'pref': list_pref,\n",
    "       'store_type': list_store_type,\n",
    "        'payment_type': list_payment_type,\n",
    "       'industry_type': list_industry_type,\n",
    "       'month': list_month,\n",
    "       'store': list_store_number}"
   ]
  },
  {
   "cell_type": "code",
   "execution_count": 131,
   "metadata": {},
   "outputs": [],
   "source": [
    "# Convert the dictionary into DataFrame \n",
    "df_new = pd.DataFrame(data) \n",
    "  \n",
    "# Observe the result \n",
    "df_new\n",
    "\n",
    "df_new.to_csv('../csv/for_analysis/kameiten_pref.csv', index = False, header=True)"
   ]
  },
  {
   "cell_type": "code",
   "execution_count": null,
   "metadata": {},
   "outputs": [],
   "source": []
  },
  {
   "cell_type": "code",
   "execution_count": 133,
   "metadata": {},
   "outputs": [],
   "source": [
    "for i in range(29328):\n",
    "    if df_new.iloc[i,4] == \"2019/10/01\" or df_new.iloc[i,4] == \"2019/10/11\" or df_new.iloc[i,4] == \"2019/10/21\":\n",
    "        df_new.iloc[i,4] = 10\n",
    "    \n",
    "    elif df_new.iloc[i,4] == \"2019/11/01\" or df_new.iloc[i,4] == \"2019/11/11\" or df_new.iloc[i,4] == \"2019/11/21\":\n",
    "        df_new.iloc[i,4] = 11\n",
    "        \n",
    "    elif df_new.iloc[i,4] == \"2019/12/01\" or df_new.iloc[i,4] == \"2019/12/11\" or df_new.iloc[i,4] == \"2019/12/21\":\n",
    "        df_new.iloc[i,4] = 12\n",
    "        \n",
    "    elif df_new.iloc[i,4] == \"2020/01/01\" or df_new.iloc[i,4] == \"2020/01/11\" or df_new.iloc[i,4] == \"2020/01/21\":\n",
    "        df_new.iloc[i,4] = 1\n",
    "        \n",
    "    elif df_new.iloc[i,4] == \"2020/02/01\" or df_new.iloc[i,4] == \"2020/02/11\" or df_new.iloc[i,4] == \"2020/02/21\":\n",
    "        df_new.iloc[i,4] = 2\n",
    "    \n",
    "    elif df_new.iloc[i,4] == \"2020/03/01\" or df_new.iloc[i,4] == \"2020/03/11\" or df_new.iloc[i,4] == \"2020/03/21\":\n",
    "        df_new.iloc[i,4] = 3\n",
    "        \n",
    "    elif df_new.iloc[i,4] == \"2020/04/01\" or df_new.iloc[i,4] == \"2020/04/11\" or df_new.iloc[i,4] == \"2020/04/21\":\n",
    "        df_new.iloc[i,4] = 4\n",
    "        \n",
    "    elif df_new.iloc[i,4] == \"2020/05/01\" or df_new.iloc[i,4] == \"2020/05/11\" or df_new.iloc[i,4] == \"2020/05/21\":\n",
    "        df_new.iloc[i,4] = 5\n",
    "        \n",
    "    elif df_new.iloc[i,4] == \"2020/06/01\" or df_new.iloc[i,4] == \"2020/06/11\":\n",
    "        df_new.iloc[i,4] = 6\n",
    "        \n",
    "    else:\n",
    "        print(\"Error\")"
   ]
  },
  {
   "cell_type": "code",
   "execution_count": 134,
   "metadata": {},
   "outputs": [],
   "source": [
    "for i in range(29328):\n",
    "    df_new.iloc[i,5] = int(df_new.iloc[i,5])\n",
    "    df_new.iloc[i,4] = int(df_new.iloc[i,4])"
   ]
  },
  {
   "cell_type": "code",
   "execution_count": 135,
   "metadata": {},
   "outputs": [],
   "source": [
    "# authors = df.copy()\n",
    "# authors = authors[['rating','name','author']].groupby('author').agg({'rating' : np.mean,\n",
    "#                                                                   'name' : '|'.join})"
   ]
  },
  {
   "cell_type": "code",
   "execution_count": 136,
   "metadata": {},
   "outputs": [],
   "source": [
    "copied_df = df_new.copy()\n",
    "# grouped2=pd.to_numeric(datedatF['data1']).groupby(datedatF['key2'])\n",
    "# grouped2.mean()"
   ]
  },
  {
   "cell_type": "code",
   "execution_count": 137,
   "metadata": {},
   "outputs": [],
   "source": [
    "numeric = ['month','store']\n",
    "copied_df[numeric] = copied_df[numeric].apply(pd.to_numeric, errors='coerce')"
   ]
  },
  {
   "cell_type": "code",
   "execution_count": 138,
   "metadata": {},
   "outputs": [],
   "source": [
    "copied_df = copied_df.groupby(['pref','store_type','payment_type','industry_type']).agg({'month':np.mean,'store':np.mean})"
   ]
  },
  {
   "cell_type": "code",
   "execution_count": 139,
   "metadata": {},
   "outputs": [],
   "source": [
    "copied_df.to_csv('../csv/for_analysis/kameiten_pref.csv', index = True, header=True)"
   ]
  },
  {
   "cell_type": "code",
   "execution_count": 140,
   "metadata": {},
   "outputs": [],
   "source": [
    "imported_df = pd.read_csv('../csv/for_analysis/kameiten_pref.csv')"
   ]
  },
  {
   "cell_type": "code",
   "execution_count": 141,
   "metadata": {},
   "outputs": [
    {
     "data": {
      "text/html": [
       "<div>\n",
       "<style scoped>\n",
       "    .dataframe tbody tr th:only-of-type {\n",
       "        vertical-align: middle;\n",
       "    }\n",
       "\n",
       "    .dataframe tbody tr th {\n",
       "        vertical-align: top;\n",
       "    }\n",
       "\n",
       "    .dataframe thead th {\n",
       "        text-align: right;\n",
       "    }\n",
       "</style>\n",
       "<table border=\"1\" class=\"dataframe\">\n",
       "  <thead>\n",
       "    <tr style=\"text-align: right;\">\n",
       "      <th></th>\n",
       "      <th>pref</th>\n",
       "      <th>store_type</th>\n",
       "      <th>payment_type</th>\n",
       "      <th>industry_type</th>\n",
       "      <th>month</th>\n",
       "      <th>store</th>\n",
       "    </tr>\n",
       "  </thead>\n",
       "  <tbody>\n",
       "    <tr>\n",
       "      <th>0</th>\n",
       "      <td>三重県小計</td>\n",
       "      <td>合計</td>\n",
       "      <td>QRコード　利用可能店</td>\n",
       "      <td>合計</td>\n",
       "      <td>6</td>\n",
       "      <td>4891.153846</td>\n",
       "    </tr>\n",
       "    <tr>\n",
       "      <th>1</th>\n",
       "      <td>三重県小計</td>\n",
       "      <td>合計</td>\n",
       "      <td>その他電子マネー等　利用可能店</td>\n",
       "      <td>合計</td>\n",
       "      <td>6</td>\n",
       "      <td>4989.269231</td>\n",
       "    </tr>\n",
       "    <tr>\n",
       "      <th>2</th>\n",
       "      <td>三重県小計</td>\n",
       "      <td>合計</td>\n",
       "      <td>クレジットカード　利用可能店</td>\n",
       "      <td>合計</td>\n",
       "      <td>6</td>\n",
       "      <td>8875.807692</td>\n",
       "    </tr>\n",
       "    <tr>\n",
       "      <th>3</th>\n",
       "      <td>三重県小計</td>\n",
       "      <td>合計</td>\n",
       "      <td>合計</td>\n",
       "      <td>合計</td>\n",
       "      <td>6</td>\n",
       "      <td>11761.846154</td>\n",
       "    </tr>\n",
       "    <tr>\n",
       "      <th>4</th>\n",
       "      <td>三重県小計</td>\n",
       "      <td>固定店舗</td>\n",
       "      <td>QRコード　利用可能店</td>\n",
       "      <td>その他サービス業</td>\n",
       "      <td>6</td>\n",
       "      <td>1368.692308</td>\n",
       "    </tr>\n",
       "  </tbody>\n",
       "</table>\n",
       "</div>"
      ],
      "text/plain": [
       "    pref store_type     payment_type industry_type  month         store\n",
       "0  三重県小計         合計      QRコード　利用可能店            合計      6   4891.153846\n",
       "1  三重県小計         合計  その他電子マネー等　利用可能店            合計      6   4989.269231\n",
       "2  三重県小計         合計   クレジットカード　利用可能店            合計      6   8875.807692\n",
       "3  三重県小計         合計               合計            合計      6  11761.846154\n",
       "4  三重県小計       固定店舗      QRコード　利用可能店      その他サービス業      6   1368.692308"
      ]
     },
     "execution_count": 141,
     "metadata": {},
     "output_type": "execute_result"
    }
   ],
   "source": [
    "imported_df.head(5)"
   ]
  },
  {
   "cell_type": "code",
   "execution_count": null,
   "metadata": {},
   "outputs": [],
   "source": [
    "for i in range(6768):\n",
    "    if imported_df.iloc[]"
   ]
  },
  {
   "cell_type": "code",
   "execution_count": 116,
   "metadata": {},
   "outputs": [
    {
     "data": {
      "text/plain": [
       "(6768, 7)"
      ]
     },
     "execution_count": 116,
     "metadata": {},
     "output_type": "execute_result"
    }
   ],
   "source": [
    "imported_df.shape"
   ]
  },
  {
   "cell_type": "code",
   "execution_count": null,
   "metadata": {},
   "outputs": [],
   "source": []
  },
  {
   "cell_type": "code",
   "execution_count": null,
   "metadata": {},
   "outputs": [],
   "source": []
  }
 ],
 "metadata": {
  "kernelspec": {
   "display_name": "Python 3",
   "language": "python",
   "name": "python3"
  },
  "language_info": {
   "codemirror_mode": {
    "name": "ipython",
    "version": 3
   },
   "file_extension": ".py",
   "mimetype": "text/x-python",
   "name": "python",
   "nbconvert_exporter": "python",
   "pygments_lexer": "ipython3",
   "version": "3.7.6"
  }
 },
 "nbformat": 4,
 "nbformat_minor": 4
}
