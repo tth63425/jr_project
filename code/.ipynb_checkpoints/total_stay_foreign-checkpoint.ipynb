{
 "cells": [
  {
   "cell_type": "code",
   "execution_count": 1,
   "metadata": {},
   "outputs": [],
   "source": [
    "import pandas as pd\n",
    "import numpy as np"
   ]
  },
  {
   "cell_type": "code",
   "execution_count": 9,
   "metadata": {},
   "outputs": [],
   "source": [
    "df = pd.read_excel('../data/raw/foreign/f_2018_1-3.xls', sheet_name=2)"
   ]
  },
  {
   "cell_type": "code",
   "execution_count": null,
   "metadata": {},
   "outputs": [],
   "source": []
  },
  {
   "cell_type": "code",
   "execution_count": 19,
   "metadata": {},
   "outputs": [
    {
     "data": {
      "text/plain": [
       "50.3394"
      ]
     },
     "execution_count": 19,
     "metadata": {},
     "output_type": "execute_result"
    }
   ],
   "source": [
    "df.iloc[85,5]"
   ]
  },
  {
   "cell_type": "code",
   "execution_count": 20,
   "metadata": {},
   "outputs": [
    {
     "data": {
      "text/plain": [
       "49.6606"
      ]
     },
     "execution_count": 20,
     "metadata": {},
     "output_type": "execute_result"
    }
   ],
   "source": [
    "df.iloc[93,5]"
   ]
  },
  {
   "cell_type": "code",
   "execution_count": 21,
   "metadata": {},
   "outputs": [
    {
     "name": "stdout",
     "output_type": "stream",
     "text": [
      "50.3394\n",
      "49.6606\n"
     ]
    }
   ],
   "source": [
    "df = pd.read_excel('../data/raw/foreign/f_2018_1-3.xls', sheet_name=2)\n",
    "print(df.iloc[85,5])\n",
    "print(df.iloc[93,5])"
   ]
  },
  {
   "cell_type": "code",
   "execution_count": 22,
   "metadata": {},
   "outputs": [
    {
     "name": "stdout",
     "output_type": "stream",
     "text": [
      "49.2348\n",
      "50.7652\n"
     ]
    }
   ],
   "source": [
    "df = pd.read_excel('../data/raw/foreign/f_2018_4-6.xls', sheet_name=2)\n",
    "print(df.iloc[85,5])\n",
    "print(df.iloc[93,5])"
   ]
  },
  {
   "cell_type": "code",
   "execution_count": 23,
   "metadata": {},
   "outputs": [
    {
     "name": "stdout",
     "output_type": "stream",
     "text": [
      "49.6236\n",
      "50.3764\n"
     ]
    }
   ],
   "source": [
    "df = pd.read_excel('../data/raw/foreign/f_2018_7-9.xls', sheet_name=2)\n",
    "print(df.iloc[85,5])\n",
    "print(df.iloc[93,5])"
   ]
  },
  {
   "cell_type": "code",
   "execution_count": 26,
   "metadata": {},
   "outputs": [
    {
     "name": "stdout",
     "output_type": "stream",
     "text": [
      "49.0174\n",
      "50.9826\n"
     ]
    }
   ],
   "source": [
    "df = pd.read_excel('../data/raw/foreign/f_2018_10-12.xls', sheet_name=2)\n",
    "print(df.iloc[85,5])\n",
    "print(df.iloc[93,5])"
   ]
  },
  {
   "cell_type": "code",
   "execution_count": 27,
   "metadata": {},
   "outputs": [
    {
     "name": "stdout",
     "output_type": "stream",
     "text": [
      "51.366\n",
      "48.634\n"
     ]
    }
   ],
   "source": [
    "df = pd.read_excel('../data/raw/foreign/f_2019_1-3.xls', sheet_name=2)\n",
    "print(df.iloc[85,5])\n",
    "print(df.iloc[93,5])"
   ]
  },
  {
   "cell_type": "code",
   "execution_count": 28,
   "metadata": {},
   "outputs": [
    {
     "name": "stdout",
     "output_type": "stream",
     "text": [
      "48.7483\n",
      "51.2517\n"
     ]
    }
   ],
   "source": [
    "df = pd.read_excel('../data/raw/foreign/f_2019_4-6.xls', sheet_name=2)\n",
    "print(df.iloc[85,5])\n",
    "print(df.iloc[93,5])"
   ]
  },
  {
   "cell_type": "code",
   "execution_count": 30,
   "metadata": {},
   "outputs": [
    {
     "name": "stdout",
     "output_type": "stream",
     "text": [
      "51.5124\n",
      "48.4876\n"
     ]
    }
   ],
   "source": [
    "df = pd.read_excel('../data/raw/foreign/f_2019_7-9.xls', sheet_name=2)\n",
    "print(df.iloc[85,5])\n",
    "print(df.iloc[93,5])"
   ]
  },
  {
   "cell_type": "code",
   "execution_count": 31,
   "metadata": {},
   "outputs": [
    {
     "name": "stdout",
     "output_type": "stream",
     "text": [
      "50.5544\n",
      "49.4456\n"
     ]
    }
   ],
   "source": [
    "df = pd.read_excel('../data/raw/foreign/f_2019_10-12.xls', sheet_name=2)\n",
    "print(df.iloc[85,5])\n",
    "print(df.iloc[93,5])"
   ]
  },
  {
   "cell_type": "code",
   "execution_count": 32,
   "metadata": {},
   "outputs": [
    {
     "name": "stdout",
     "output_type": "stream",
     "text": [
      "53.1993\n",
      "46.8007\n"
     ]
    }
   ],
   "source": [
    "df = pd.read_excel('../data/raw/foreign/f_2020_1-3.xls', sheet_name=2)\n",
    "print(df.iloc[85,5])\n",
    "print(df.iloc[93,5])"
   ]
  },
  {
   "cell_type": "code",
   "execution_count": null,
   "metadata": {},
   "outputs": [],
   "source": []
  }
 ],
 "metadata": {
  "kernelspec": {
   "display_name": "Python 3",
   "language": "python",
   "name": "python3"
  },
  "language_info": {
   "codemirror_mode": {
    "name": "ipython",
    "version": 3
   },
   "file_extension": ".py",
   "mimetype": "text/x-python",
   "name": "python",
   "nbconvert_exporter": "python",
   "pygments_lexer": "ipython3",
   "version": "3.7.6"
  }
 },
 "nbformat": 4,
 "nbformat_minor": 4
}
