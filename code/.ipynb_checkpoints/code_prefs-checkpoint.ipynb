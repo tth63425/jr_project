{
 "cells": [
  {
   "cell_type": "code",
   "execution_count": 53,
   "metadata": {},
   "outputs": [],
   "source": [
    "import pandas as pd\n",
    "import numpy as np"
   ]
  },
  {
   "cell_type": "code",
   "execution_count": 32,
   "metadata": {},
   "outputs": [],
   "source": [
    "# by prefecture part 1\n",
    "\n",
    "df_pref_part1 = []\n",
    "\n",
    "for i in range(16):\n",
    "    sheet_number = i + 1\n",
    "    \n",
    "    if sheet_number % 2 == 1:\n",
    "        # prefecture\n",
    "        counter = 0\n",
    "        sheet = pd.read_excel('../data/191011_191221kameiten_touroku_report.xlsx', sheet_name=i)\n",
    "        df_pref_part1.append(sheet)\n",
    "        counter += 1"
   ]
  },
  {
   "cell_type": "code",
   "execution_count": 33,
   "metadata": {},
   "outputs": [],
   "source": [
    "# by prefecture part 2\n",
    "\n",
    "df_pref_part2 = []\n",
    "\n",
    "for i in range(22):\n",
    "    sheet_number = i + 1\n",
    "    \n",
    "    if sheet_number % 2 == 1:\n",
    "        # prefecture\n",
    "        counter = 0\n",
    "        sheet = pd.read_excel('../data/200111_200611kameiten_touroku_report.xlsx', sheet_name=i)\n",
    "        df_pref_part2.append(sheet)\n",
    "        counter += 1"
   ]
  },
  {
   "cell_type": "code",
   "execution_count": 34,
   "metadata": {},
   "outputs": [
    {
     "data": {
      "text/plain": [
       "8"
      ]
     },
     "execution_count": 34,
     "metadata": {},
     "output_type": "execute_result"
    }
   ],
   "source": [
    "len(df_pref_part1)"
   ]
  },
  {
   "cell_type": "code",
   "execution_count": null,
   "metadata": {},
   "outputs": [],
   "source": []
  },
  {
   "cell_type": "code",
   "execution_count": 36,
   "metadata": {},
   "outputs": [],
   "source": [
    "# 加盟店数\n",
    "kameiten_all = []\n",
    "\n",
    "for i in range(8):\n",
    "    list_kamei = list(df_pref_part1[i].iloc[3:50,2])\n",
    "    kameiten_all.append(list_kamei)\n",
    "    \n",
    "for i in range(11):\n",
    "    list_kamei2 = list(df_pref_part2[i].iloc[3:50,2])\n",
    "    kameiten_all.append(list_kamei2)"
   ]
  },
  {
   "cell_type": "code",
   "execution_count": 37,
   "metadata": {},
   "outputs": [],
   "source": [
    "# 固定店舗\n",
    "\n",
    "koteitenn_all = []\n",
    "\n",
    "for i in range(8):\n",
    "    list_kotei = list(df_pref_part1[i].iloc[3:50,3])\n",
    "    koteitenn_all.append(list_kotei)\n",
    "    \n",
    "for i in range(11):\n",
    "    list_kotei2 = list(df_pref_part2[i].iloc[3:50,3])\n",
    "    koteitenn_all.append(list_kotei2)"
   ]
  },
  {
   "cell_type": "code",
   "execution_count": 38,
   "metadata": {},
   "outputs": [],
   "source": [
    "# 飲食業\n",
    "\n",
    "insyoku_all = []\n",
    "\n",
    "for i in range(8):\n",
    "    list_insyoku = list(df_pref_part1[i].iloc[3:50,4])\n",
    "    insyoku_all.append(list_insyoku)\n",
    "    \n",
    "for i in range(11):\n",
    "    list_insyoku2 = list(df_pref_part2[i].iloc[3:50,4])\n",
    "    insyoku_all.append(list_insyoku2)"
   ]
  },
  {
   "cell_type": "code",
   "execution_count": 39,
   "metadata": {},
   "outputs": [],
   "source": [
    "# その他サービス業\n",
    "\n",
    "service_all = []\n",
    "\n",
    "for i in range(8):\n",
    "    list_service = list(df_pref_part1[i].iloc[3:50,5])\n",
    "    service_all.append(list_service)\n",
    "    \n",
    "for i in range(11):\n",
    "    list_service2 = list(df_pref_part2[i].iloc[3:50,5])\n",
    "    service_all.append(list_service2)"
   ]
  },
  {
   "cell_type": "code",
   "execution_count": 40,
   "metadata": {},
   "outputs": [],
   "source": [
    "# 通信\n",
    "\n",
    "tele_all = []\n",
    "\n",
    "for i in range(8):\n",
    "    list_tele = list(df_pref_part1[i].iloc[3:50,6])\n",
    "    tele_all.append(list_tele)\n",
    "    \n",
    "for i in range(11):\n",
    "    list_tele2 = list(df_pref_part2[i].iloc[3:50,6])\n",
    "    tele_all.append(list_tele2)"
   ]
  },
  {
   "cell_type": "code",
   "execution_count": 41,
   "metadata": {},
   "outputs": [],
   "source": [
    "# 移動販売\n",
    "\n",
    "idou_all = []\n",
    "\n",
    "for i in range(8):\n",
    "    list_idou = list(df_pref_part1[i].iloc[3:50,7])\n",
    "    idou_all.append(list_idou)\n",
    "    \n",
    "for i in range(11):\n",
    "    list_idou2 = list(df_pref_part2[i].iloc[3:50,7])\n",
    "    idou_all.append(list_idou2)"
   ]
  },
  {
   "cell_type": "code",
   "execution_count": 48,
   "metadata": {},
   "outputs": [],
   "source": [
    "prefs = list(df_pref_part1[0].iloc[3:50,1])"
   ]
  },
  {
   "cell_type": "code",
   "execution_count": 50,
   "metadata": {},
   "outputs": [],
   "source": [
    "times = [\"1011\",\"1021\",\"1101\",\"1111\",\"1121\",\"1201\",\"1211\",\"1221\",\"0111\",\"0121\",\"0201\",\"0211\",\"0221\",\"0301\",\"0311\",\"0321\",\"0401\",\"0601\",\"0611\"]"
   ]
  },
  {
   "cell_type": "code",
   "execution_count": 73,
   "metadata": {},
   "outputs": [],
   "source": [
    "kameitan_array = np.array(kameiten_all)\n",
    "kameitan_array = kameitan_array.T\n",
    "df_kameiten = pd.DataFrame(kameitan_array, columns=times, index=prefs)\n",
    "df_kameiten.to_csv(\"../csv/todouhuken/kameiten.csv\")"
   ]
  },
  {
   "cell_type": "code",
   "execution_count": 74,
   "metadata": {},
   "outputs": [],
   "source": [
    "koteitenn_array = np.array(koteitenn_all)\n",
    "koteitenn_array = koteitenn_array.T\n",
    "df_koteitenn = pd.DataFrame(koteitenn_array, columns=times, index=prefs)\n",
    "df_koteitenn.to_csv(\"../csv/todouhuken/koteitenn.csv\")"
   ]
  },
  {
   "cell_type": "code",
   "execution_count": 75,
   "metadata": {},
   "outputs": [],
   "source": [
    "insyoku_array = np.array(insyoku_all)\n",
    "insyoku_array = insyoku_array.T\n",
    "df_insyoku = pd.DataFrame(insyoku_array, columns=times, index=prefs)\n",
    "df_insyoku.to_csv(\"../csv/todouhuken/insyoku.csv\")"
   ]
  },
  {
   "cell_type": "code",
   "execution_count": 76,
   "metadata": {},
   "outputs": [],
   "source": [
    "service_array = np.array(service_all)\n",
    "service_array = service_array.T\n",
    "df_service = pd.DataFrame(service_array, columns=times, index=prefs)\n",
    "df_service.to_csv(\"../csv/todouhuken/service.csv\")"
   ]
  },
  {
   "cell_type": "code",
   "execution_count": 77,
   "metadata": {},
   "outputs": [],
   "source": [
    "tele_array = np.array(tele_all)\n",
    "tele_array = tele_array.T\n",
    "df_tele = pd.DataFrame(tele_array, columns=times, index=prefs)\n",
    "df_tele.to_csv(\"../csv/todouhuken/tele.csv\")"
   ]
  },
  {
   "cell_type": "code",
   "execution_count": 78,
   "metadata": {},
   "outputs": [],
   "source": [
    "idou_array = np.array(idou_all)\n",
    "idou_array = idou_array.T\n",
    "df_idou = pd.DataFrame(idou_array, columns=times, index=prefs)\n",
    "df_idou.to_csv(\"../csv/todouhuken/idou.csv\")"
   ]
  },
  {
   "cell_type": "code",
   "execution_count": null,
   "metadata": {},
   "outputs": [],
   "source": []
  },
  {
   "cell_type": "code",
   "execution_count": null,
   "metadata": {},
   "outputs": [],
   "source": []
  }
 ],
 "metadata": {
  "kernelspec": {
   "display_name": "Python 3",
   "language": "python",
   "name": "python3"
  },
  "language_info": {
   "codemirror_mode": {
    "name": "ipython",
    "version": 3
   },
   "file_extension": ".py",
   "mimetype": "text/x-python",
   "name": "python",
   "nbconvert_exporter": "python",
   "pygments_lexer": "ipython3",
   "version": "3.7.6"
  }
 },
 "nbformat": 4,
 "nbformat_minor": 4
}
